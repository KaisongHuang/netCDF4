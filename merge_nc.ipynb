{
 "cells": [
  {
   "cell_type": "code",
   "execution_count": null,
   "metadata": {},
   "outputs": [],
   "source": [
    "from netCDF4 import Dataset\n",
    "import netCDF4 as nc\n",
    "import numpy as np\n",
    "from datetime import datetime"
   ]
  },
  {
   "cell_type": "code",
   "execution_count": null,
   "metadata": {},
   "outputs": [],
   "source": [
    "# Open files\n",
    "all_file = Dataset('../test/all_r9i2p1r3.nc', 'a')\n",
    "part_file = Dataset('../test/huss_r9i2p1r3_final.nc', 'r') \n",
    "\n",
    "# Merge lon, lat, time\n",
    "var_name = 'lon'\n",
    "print('Appending variable {}'.format(var_name))\n",
    "part_data = part_file[var_name][:]\n",
    "all_file['rlon'][:] = part_data\n",
    "\n",
    "var_name = 'lat'\n",
    "print('Appending variable {}'.format(var_name))\n",
    "part_data = part_file[var_name][:]\n",
    "all_file['rlat'][:] = part_data\n",
    "\n",
    "var_name = 'time'\n",
    "print('Appending variable {}'.format(var_name))\n",
    "part_data = part_file[var_name][:]\n",
    "all_file['time'][:] = part_data\n",
    "\n",
    "# Close files\n",
    "all_file.close()\n",
    "part_file.close()"
   ]
  },
  {
   "cell_type": "code",
   "execution_count": null,
   "metadata": {},
   "outputs": [],
   "source": [
    "all_file = Dataset('../test/all_r9i2p1r3.nc', 'a')\n",
    "\n",
    "# Set date\n",
    "dt = datetime(1951, 12, 31, 21, 0)\n",
    "\n",
    "# Get variable\n",
    "variable = all_file['time']\n",
    "data = variable[:]\n",
    "\n",
    "num = nc.date2num(dt, variable.units, variable.calendar)\n",
    "print('num: {}'.format(num))\n",
    "\n",
    "index = int(num/3)\n",
    "print('index: {}'.format(index))\n",
    "\n",
    "start, end = nc.num2date(data[[0, index]], variable.units, variable.calendar)\n",
    "print('from {} to {}'.format(start, end))\n",
    "\n",
    "all_file.close()"
   ]
  },
  {
   "cell_type": "code",
   "execution_count": null,
   "metadata": {},
   "outputs": [],
   "source": [
    "# Open files\n",
    "print('Opening files...')\n",
    "all_file = Dataset('../test/all_r9i2p1r3.nc', 'a')\n",
    "part_file = Dataset('../test/huss_r9i2p1r3_final.nc', 'r') \n",
    "\n",
    "# Merge huss\n",
    "var_name = 'huss'\n",
    "print('Appending variable {}...'.format(var_name))\n",
    "part_data = part_file[var_name][0:2919]\n",
    "all_file['hus'][:] = part_data\n",
    "\n",
    "# Close files\n",
    "print('Closing files...')\n",
    "all_file.close()\n",
    "part_file.close()\n",
    "\n",
    "print('Done!')"
   ]
  }
 ],
 "metadata": {
  "kernelspec": {
   "display_name": "Python 2",
   "language": "python",
   "name": "python2"
  },
  "language_info": {
   "codemirror_mode": {
    "name": "ipython",
    "version": 2
   },
   "file_extension": ".py",
   "mimetype": "text/x-python",
   "name": "python",
   "nbconvert_exporter": "python",
   "pygments_lexer": "ipython2",
   "version": "2.7.16"
  }
 },
 "nbformat": 4,
 "nbformat_minor": 2
}
